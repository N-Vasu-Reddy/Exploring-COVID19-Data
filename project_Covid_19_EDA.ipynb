{
  "cells": [
    {
      "cell_type": "markdown",
      "metadata": {
        "id": "view-in-github",
        "colab_type": "text"
      },
      "source": [
        "<a href=\"https://colab.research.google.com/github/N-Vasu-Reddy/Exploring-COVID19-Data/blob/main/project_Covid_19_EDA.ipynb\" target=\"_parent\"><img src=\"https://colab.research.google.com/assets/colab-badge.svg\" alt=\"Open In Colab\"/></a>"
      ]
    },
    {
      "cell_type": "markdown",
      "metadata": {
        "id": "RmPSwVUokSCq"
      },
      "source": [
        "#Importing necessary libraries"
      ]
    },
    {
      "cell_type": "code",
      "execution_count": null,
      "metadata": {
        "id": "r31HmWvqj6hb"
      },
      "outputs": [],
      "source": [
        "import numpy as np\n",
        "import pandas as pd\n",
        "import matplotlib.pyplot as plt\n",
        "import seaborn as sns\n",
        "import plotly.express as px\n",
        "import plotly.graph_objects as go\n",
        "import folium\n",
        "from ipywidgets import interact\n",
        "import warnings\n",
        "warnings.filterwarnings('ignore')"
      ]
    },
    {
      "cell_type": "markdown",
      "metadata": {
        "id": "aa9zB2vDkbCB"
      },
      "source": [
        "#Loading datasets"
      ]
    },
    {
      "cell_type": "code",
      "execution_count": null,
      "metadata": {
        "id": "4wPEibE7eJ_a"
      },
      "outputs": [],
      "source": [
        "cases_df = pd.read_csv('/content/WHO-COVID-19-global-table-data.csv',encoding='latin1')\n",
        "vacc_df = pd.read_csv('/content/vaccination-data.csv',encoding='latin1')\n",
        "loc_df = pd.read_csv('/content/location.csv',encoding='latin1')"
      ]
    },
    {
      "cell_type": "markdown",
      "metadata": {
        "id": "bDMlY4t4kerh"
      },
      "source": [
        "###Initial Exploration"
      ]
    },
    {
      "cell_type": "code",
      "execution_count": null,
      "metadata": {
        "id": "aGHrj_klkGUg"
      },
      "outputs": [],
      "source": [
        "cases_df.head()"
      ]
    },
    {
      "cell_type": "code",
      "execution_count": null,
      "metadata": {
        "id": "ZIE82EUBvOvB"
      },
      "outputs": [],
      "source": [
        "vacc_df.head()"
      ]
    },
    {
      "cell_type": "code",
      "execution_count": null,
      "metadata": {
        "id": "gIJYjMol752M"
      },
      "outputs": [],
      "source": [
        "loc_df.head()"
      ]
    },
    {
      "cell_type": "code",
      "execution_count": null,
      "metadata": {
        "id": "iR9mJz-PkMvO"
      },
      "outputs": [],
      "source": [
        "cases_df.info()"
      ]
    },
    {
      "cell_type": "code",
      "execution_count": null,
      "metadata": {
        "id": "bimWx7UT1yUv"
      },
      "outputs": [],
      "source": [
        "vacc_df.info()"
      ]
    },
    {
      "cell_type": "markdown",
      "metadata": {
        "id": "9NXL53sLIDT8"
      },
      "source": [
        "#Data Cleaning"
      ]
    },
    {
      "cell_type": "code",
      "execution_count": null,
      "metadata": {
        "id": "V-YCgY_s0BrI"
      },
      "outputs": [],
      "source": [
        "cases_df.drop(\"Deaths - newly reported in last 7 days per 100000 population\",axis=1,inplace=True)"
      ]
    },
    {
      "cell_type": "code",
      "execution_count": null,
      "metadata": {
        "id": "IXzO45WezzbQ"
      },
      "outputs": [],
      "source": [
        "cases_df.drop([\"WHO Region\"],axis=1,inplace=True)\n",
        "vacc_df.drop([\"WHO_REGION\", \"DATA_SOURCE\",\"DATE_UPDATED\",\"VACCINES_USED\",\"NUMBER_VACCINES_TYPES_USED\",\"FIRST_VACCINE_DATE\"],axis=1,inplace=True)"
      ]
    },
    {
      "cell_type": "code",
      "execution_count": null,
      "metadata": {
        "id": "ts-myrVv2-zP"
      },
      "outputs": [],
      "source": [
        "vacc_df = vacc_df.dropna(subset=['TOTAL_VACCINATIONS'])"
      ]
    },
    {
      "cell_type": "code",
      "execution_count": null,
      "metadata": {
        "id": "jY0RXaIz0kYh"
      },
      "outputs": [],
      "source": [
        "cases_df.rename(columns={\"Cases - cumulative total\":\"cases_tot\",\"Cases - cumulative total per 100000 population\":\"cases_tot_per10000\",\"Cases - newly reported in last 7 days\":\"new_cases_7d\",\"Cases - newly reported in last 7 days per 100000 population\":\"new_cases_7d_per10000\",\"Cases - newly reported in last 24 hours\":\"new_cases_24h\"},inplace=True)\n",
        "cases_df.rename(columns={\"Deaths - cumulative total\":\"deaths_tot\",\"Deaths - cumulative total per 100000 population\":\"deaths_tot_per10000\",\"Deaths - newly reported in last 7 days\":\"new_deaths_7d\",\"Deaths - newly reported in last 24 hours\":\"new_deaths_24h\"},inplace=True)"
      ]
    },
    {
      "cell_type": "code",
      "execution_count": null,
      "metadata": {
        "id": "o28G81pi_uif"
      },
      "outputs": [],
      "source": [
        "cases_df.rename(columns={\"Name\":\"country\"},inplace=True)\n",
        "vacc_df.rename(columns={\"COUNTRY\":\"country\"},inplace=True)\n",
        "loc_df.rename(columns={\"country\":\"code\",\"name\":\"country\"},inplace=True)"
      ]
    },
    {
      "cell_type": "code",
      "execution_count": null,
      "metadata": {
        "id": "Qxy3SgoLwtr1"
      },
      "outputs": [],
      "source": [
        "cases_df.head()"
      ]
    },
    {
      "cell_type": "code",
      "execution_count": null,
      "metadata": {
        "id": "wxfHNo8k_O4N"
      },
      "outputs": [],
      "source": [
        "vacc_df.head()"
      ]
    },
    {
      "cell_type": "markdown",
      "source": [
        "##Feature Engineering"
      ],
      "metadata": {
        "id": "I3WpsNAC-H_Q"
      }
    },
    {
      "cell_type": "markdown",
      "metadata": {
        "id": "YSrHZRAsISDh"
      },
      "source": [
        "In this stage, I am going to create a covid-19 dataframe(covid_df) from the three available dataframes(loc_df,cases_df and vacc_df). This process requires treating of the three dataframes and merging them."
      ]
    },
    {
      "cell_type": "code",
      "execution_count": null,
      "metadata": {
        "id": "mZF8UVg7BKl6"
      },
      "outputs": [],
      "source": [
        "covid_df = pd.merge_ordered(loc_df,cases_df,on=\"country\",how='inner')"
      ]
    },
    {
      "cell_type": "code",
      "source": [
        "covid_df = pd.merge_ordered(covid_df,vacc_df,how='left')"
      ],
      "metadata": {
        "id": "9MLllGkZjPPh"
      },
      "execution_count": null,
      "outputs": []
    },
    {
      "cell_type": "code",
      "source": [
        "covid_df.rename(columns={covid_df.columns[0]:\"code\"},inplace = True)"
      ],
      "metadata": {
        "id": "Fi4qwFoZUFzn"
      },
      "execution_count": null,
      "outputs": []
    },
    {
      "cell_type": "code",
      "execution_count": null,
      "metadata": {
        "id": "3_TTt113C5sm"
      },
      "outputs": [],
      "source": [
        "covid_df.head()"
      ]
    },
    {
      "cell_type": "code",
      "source": [
        "covid_df['VACCINATION_GAP'] = covid_df['PERSONS_VACCINATED_1PLUS_DOSE'] - covid_df['PERSONS_LAST_DOSE']"
      ],
      "metadata": {
        "id": "aTbLzER-_u_L"
      },
      "execution_count": null,
      "outputs": []
    },
    {
      "cell_type": "code",
      "execution_count": null,
      "metadata": {
        "id": "MQE0GaL-hTU1"
      },
      "outputs": [],
      "source": [
        "cols_to_replace = ['cases_tot', 'cases_tot_per10000', 'new_cases_7d', 'new_cases_7d_per10000',\n",
        "                   'new_cases_24h', 'deaths_tot', 'deaths_tot_per10000', 'new_deaths_7d',\n",
        "                   'new_deaths_24h', 'TOTAL_VACCINATIONS', 'PERSONS_VACCINATED_1PLUS_DOSE',\n",
        "                   'TOTAL_BOOSTERS', 'PERSONS_BOOSTER_ADD_DOSE']\n",
        "for col in cols_to_replace:\n",
        "    if col in covid_df.columns:\n",
        "        covid_df[col] = covid_df[col].replace(0, np.nan)\n",
        "\n",
        "covid_df.head()"
      ]
    },
    {
      "cell_type": "code",
      "execution_count": null,
      "metadata": {
        "id": "3dk5A1ldC7cV"
      },
      "outputs": [],
      "source": [
        "covid_df.shape"
      ]
    },
    {
      "cell_type": "code",
      "execution_count": null,
      "metadata": {
        "id": "bdHfmSKhC9xx"
      },
      "outputs": [],
      "source": [
        "covid_df.info()"
      ]
    },
    {
      "cell_type": "code",
      "execution_count": null,
      "metadata": {
        "id": "vQFE5UxoFX2-"
      },
      "outputs": [],
      "source": [
        "covid_df.to_csv(\"covid_df.csv\",index=False)"
      ]
    },
    {
      "cell_type": "markdown",
      "metadata": {
        "id": "4UHrZQjIzADZ"
      },
      "source": [
        "#EDA"
      ]
    },
    {
      "cell_type": "markdown",
      "metadata": {
        "id": "b53U0AKniVoW"
      },
      "source": [
        "##Profile Reporting"
      ]
    },
    {
      "cell_type": "code",
      "source": [
        "#!pip install ydata-profiling --q"
      ],
      "metadata": {
        "id": "JnWDuM2MKnP6"
      },
      "execution_count": null,
      "outputs": []
    },
    {
      "cell_type": "code",
      "execution_count": null,
      "metadata": {
        "id": "v0KWJj_KGHhZ"
      },
      "outputs": [],
      "source": [
        "import ydata_profiling"
      ]
    },
    {
      "cell_type": "code",
      "execution_count": null,
      "metadata": {
        "id": "bwiBz8wJGRj-"
      },
      "outputs": [],
      "source": [
        "profile = ydata_profiling.ProfileReport(covid_df)\n",
        "profile.to_notebook_iframe()"
      ]
    },
    {
      "cell_type": "markdown",
      "source": [
        "##Distribution Analysis"
      ],
      "metadata": {
        "id": "p-T8Ua1mStgm"
      }
    },
    {
      "cell_type": "code",
      "source": [
        "import plotly.graph_objects as go\n",
        "\n",
        "fig = go.Figure(data=[go.Pie(\n",
        "    labels=['Cummulative sum of cases','Cummulative sum of vaccinations','Cummulative sum of deaths'],\n",
        "    values=[covid_df['cases_tot'].sum(),covid_df['TOTAL_VACCINATIONS'].sum(),covid_df['deaths_tot'].sum()],\n",
        "    hole=0.4,\n",
        "    marker=dict(colors=['#ffc107', '#28a745','#dc3545'])\n",
        ")])\n",
        "fig.update_layout(\n",
        "    title_text='COVID-19 Cases Distribution',\n",
        "    title_x=0.5,\n",
        "    annotations=[dict(text='Cases', x=0.5, y=0.5, font_size=20, showarrow=False)]\n",
        ")\n",
        "fig.show()"
      ],
      "metadata": {
        "id": "Ea4D6qzTMFQB"
      },
      "execution_count": null,
      "outputs": []
    },
    {
      "cell_type": "markdown",
      "source": [
        "##Correlation analysis and Heatmap"
      ],
      "metadata": {
        "id": "KMdZTOCLTalp"
      }
    },
    {
      "cell_type": "code",
      "source": [
        "numeric_cols = covid_df.select_dtypes(include=np.number).drop(columns=['latitude', 'longitude'], errors='ignore')\n",
        "corr_matrix = numeric_cols.corr()\n",
        "plt.figure(figsize=(15,10))\n",
        "sns.heatmap(corr_matrix, annot=True, cmap='coolwarm', fmt=\".2f\")\n",
        "plt.title('Correlation Matrix of COVID-19 Data')\n",
        "plt.show()"
      ],
      "metadata": {
        "id": "lxav5e8pTfCj"
      },
      "execution_count": null,
      "outputs": []
    },
    {
      "cell_type": "markdown",
      "metadata": {
        "id": "vc5LbXG6_ip8"
      },
      "source": [
        "##Univarate Analysis"
      ]
    },
    {
      "cell_type": "code",
      "execution_count": null,
      "metadata": {
        "id": "T9qEPf-QkXXP"
      },
      "outputs": [],
      "source": [
        "fig,axes=plt.subplots(1,3,figsize=(20,10))\n",
        "top_10_countries = covid_df.nlargest(10, 'cases_tot')\n",
        "colors = sns.color_palette(\"Blues_r\", n_colors=20)\n",
        "sns.barplot(x='country', y='cases_tot', data=top_10_countries, palette=colors,ax=axes[0])\n",
        "axes[0].set_title('Top 10 Countries with Highest Total Cases')\n",
        "axes[0].set_xlabel('Country')\n",
        "axes[0].set_ylabel('Total Cases')\n",
        "axes[0].tick_params(axis='x',rotation=90)\n",
        "\n",
        "top_10_countries = covid_df.nlargest(10, 'deaths_tot').sort_values(by='deaths_tot', ascending=False)\n",
        "colors = sns.color_palette(\"Reds_r\", n_colors=30)\n",
        "sns.barplot(x='country', y='deaths_tot', data=top_10_countries,palette=colors,ax=axes[1])\n",
        "axes[1].set_title('Top 10 Countries with Highest Death Cases')\n",
        "axes[1].set_xlabel('Country')\n",
        "axes[1].set_ylabel('Total Death Cases')\n",
        "axes[1].tick_params(axis='x',rotation=90)\n",
        "\n",
        "top_10_countries = covid_df.nlargest(10, 'TOTAL_VACCINATIONS')\n",
        "colors = sns.color_palette(\"Greens_r\", n_colors=20)\n",
        "sns.barplot(x='country', y='TOTAL_VACCINATIONS', data=top_10_countries,palette=colors,ax = axes[2])\n",
        "axes[2].set_title('Top 10 Countries with Highest Vaccinated Persons')\n",
        "axes[2].set_xlabel('Country')\n",
        "axes[2].set_ylabel('Total Vaccinations')\n",
        "axes[2].tick_params(rotation=90)\n",
        "plt.show()"
      ]
    },
    {
      "cell_type": "code",
      "source": [
        "covid_df[['TOTAL_VACCINATIONS','TOTAL_VACCINATIONS_PER100']].describe()"
      ],
      "metadata": {
        "id": "Wd2U13o0E9jS"
      },
      "execution_count": null,
      "outputs": []
    },
    {
      "cell_type": "code",
      "source": [
        "sns.boxplot(x='TOTAL_VACCINATIONS',data=covid_df.sort_values(by='TOTAL_VACCINATIONS',ascending=False).iloc[2:,:])\n",
        "plt.title('Boxplot of Total Vaccinations')\n",
        "plt.xlabel('Total Vaccinations')\n",
        "plt.show()"
      ],
      "metadata": {
        "id": "-MMFSWd9YN-O"
      },
      "execution_count": null,
      "outputs": []
    },
    {
      "cell_type": "code",
      "source": [
        "covid_df['TOTAL_VACCINATIONS_PER100'].describe()"
      ],
      "metadata": {
        "id": "ky-T9jdUckSf"
      },
      "execution_count": null,
      "outputs": []
    },
    {
      "cell_type": "code",
      "source": [
        "sns.boxplot(x='TOTAL_VACCINATIONS_PER100',data=covid_df.sort_values(by='TOTAL_VACCINATIONS_PER100',ascending=False).iloc[2:,:])\n",
        "plt.title('Boxplot of Total Vaccinations Per 100')\n",
        "plt.xlabel('Total Vaccinations Per 100')\n",
        "plt.show()"
      ],
      "metadata": {
        "id": "MEpVRnkgcqGY"
      },
      "execution_count": null,
      "outputs": []
    },
    {
      "cell_type": "code",
      "source": [
        "sns.histplot(x='TOTAL_VACCINATIONS_PER100',kde=True,bins=30,data=covid_df)\n",
        "plt.title('Histogram of Total Vaccinations Per 100')\n",
        "plt.xlabel('Total Vaccinations Per 100')\n",
        "plt.ylabel('Frequency')\n",
        "plt.show()"
      ],
      "metadata": {
        "id": "IU1OuAueXMVp"
      },
      "execution_count": null,
      "outputs": []
    },
    {
      "cell_type": "markdown",
      "source": [
        "### Observations:\n",
        "\n",
        "\n",
        "1.  The highest frequency occurs around 100 vaccinations per 100 people. This indicates that a significant number of countries (or regions) have achieved approximately this level of vaccination.\n",
        "2.   The distribution appears to be right-skewed, with a long tail extending towards higher vaccination rates. This suggests that while many countries have moderate vaccination levels, a few countries have exceptionally high rates.\n",
        "3. The density curve illustrates a bimodal distribution, indicating two distinct clusters of countries: one centered around 100 vaccinations per 100 people, and the other around 200 vaccinations per 100 people."
      ],
      "metadata": {
        "id": "yakfhYXBJKs1"
      }
    },
    {
      "cell_type": "code",
      "source": [
        "from scipy.stats import iqr\n",
        "Q1 = np.quantile(covid_df['TOTAL_VACCINATIONS'],0.25)\n",
        "Q3 = np.quantile(covid_df['TOTAL_VACCINATIONS'],0.75)\n",
        "iqr = iqr(covid_df['TOTAL_VACCINATIONS'])\n",
        "lower_bound = Q1 - 1.5*iqr\n",
        "upper_bound = Q3 + 1.5*iqr\n",
        "outliers = covid_df[(covid_df['TOTAL_VACCINATIONS']<lower_bound) | (covid_df['TOTAL_VACCINATIONS']>upper_bound)]\n",
        "print(len(outliers))"
      ],
      "metadata": {
        "id": "TbOJIHzQVXEk"
      },
      "execution_count": null,
      "outputs": []
    },
    {
      "cell_type": "markdown",
      "source": [
        "##Bivariate analysis"
      ],
      "metadata": {
        "id": "rN8wZQa2aXYq"
      }
    },
    {
      "cell_type": "markdown",
      "source": [
        "###TOTAL_VACCINATIONS vs TOTAL_VACCINATIONS_PER100"
      ],
      "metadata": {
        "id": "QMV99TXnAw8V"
      }
    },
    {
      "cell_type": "code",
      "execution_count": null,
      "metadata": {
        "id": "ypDC4FHPHzwd"
      },
      "outputs": [],
      "source": [
        "sns.scatterplot(x='TOTAL_VACCINATIONS',y='TOTAL_VACCINATIONS_PER100',data=covid_df)\n",
        "plt.title('Total Vaccinations vs Total Vaccinations Per 100')\n",
        "plt.xlabel('Total Vaccinations')\n",
        "plt.ylabel('Total Vaccinations Per 100')\n",
        "plt.show()"
      ]
    },
    {
      "cell_type": "code",
      "source": [
        "correlation = covid_df[['TOTAL_VACCINATIONS', 'TOTAL_VACCINATIONS_PER100']].corr()\n",
        "print(correlation)"
      ],
      "metadata": {
        "id": "eObX_lBnSMUQ"
      },
      "execution_count": null,
      "outputs": []
    },
    {
      "cell_type": "markdown",
      "source": [
        "###PERSONS_LAST_DOSE_PER100 vs PERSONS_BOOSTER_ADD_DOSE_PER100"
      ],
      "metadata": {
        "id": "rgdm-mR7A6WE"
      }
    },
    {
      "cell_type": "code",
      "source": [
        "plt.figure(figsize=(8, 6))\n",
        "sns.scatterplot(data=covid_df, x='PERSONS_LAST_DOSE_PER100', y='PERSONS_BOOSTER_ADD_DOSE_PER100')\n",
        "plt.title('Full Vaccination vs. Booster Uptake')\n",
        "plt.xlabel('Full Vaccination Rate (per 100)')\n",
        "plt.ylabel('Booster Uptake Rate (per 100)')\n",
        "plt.show()"
      ],
      "metadata": {
        "id": "BVbxWCGLStI7"
      },
      "execution_count": null,
      "outputs": []
    },
    {
      "cell_type": "code",
      "source": [
        "covid_df['PERSONS_VACCINATED_1PLUS_DOSE'].corr(covid_df['PERSONS_LAST_DOSE'])"
      ],
      "metadata": {
        "id": "hgPyP3GxUup4"
      },
      "execution_count": null,
      "outputs": []
    },
    {
      "cell_type": "markdown",
      "source": [
        "There is a high correlation between the last vaccine uptake rate and booster dose uptake rate.This provides the conclusion that regions where people didn't take the last dose vaccinations also didn't take booster dose vaccination. So awareness about the \"covid pandemic and vaccination intake\" has to be taught."
      ],
      "metadata": {
        "id": "oabA5m26VvUp"
      }
    },
    {
      "cell_type": "code",
      "source": [
        "covid_df.iloc[:,13:].head()"
      ],
      "metadata": {
        "id": "bFHaGJi6a3Do"
      },
      "execution_count": null,
      "outputs": []
    },
    {
      "cell_type": "code",
      "source": [
        "covid_df['alive']=covid_df['cases_tot']-covid_df['deaths_tot']\n",
        "covid_df.head()"
      ],
      "metadata": {
        "id": "4cL9SMk5Bd9f"
      },
      "execution_count": null,
      "outputs": []
    },
    {
      "cell_type": "markdown",
      "source": [
        "###Choropleth Analysis"
      ],
      "metadata": {
        "id": "TgY49pzSBZo8"
      }
    },
    {
      "cell_type": "code",
      "source": [
        "fig = px.choropleth(\n",
        "    covid_df,\n",
        "    locations='ISO3',\n",
        "    color='TOTAL_VACCINATIONS_PER100',\n",
        "    hover_name='country',\n",
        "    title='Vaccination Rate per 100 People by Country',\n",
        "    color_continuous_scale='matter'\n",
        ")\n",
        "fig.show()\n"
      ],
      "metadata": {
        "id": "ipG-GMFFDYSs"
      },
      "execution_count": null,
      "outputs": []
    },
    {
      "cell_type": "code",
      "source": [
        "def create_map(column):\n",
        "    base_map = folium.Map(location=[0, 0], zoom_start=3,tiles=\"cartodbpositron\",control_scale=True,no_wrap=True,max_bounds=True,)\n",
        "    bounds=[]\n",
        "\n",
        "    for _, row in covid_df.iterrows():\n",
        "        color = \"blue\" if column == \"cases_tot\" else \"red\" if column == \"deaths_tot\" else \"green\"\n",
        "        folium.CircleMarker(\n",
        "            location=[row[\"latitude\"], row[\"longitude\"]],\n",
        "            radius=5,\n",
        "            color=color,\n",
        "            fill=True,\n",
        "            fill_color=color,\n",
        "            fill_opacity=0.6,\n",
        "            tooltip=f\"{column}: {row[column]}<br>Country: {row['country']}\"\n",
        "        ).add_to(base_map)\n",
        "\n",
        "\n",
        "    return base_map\n",
        "\n",
        "interact(create_map, column=[\"cases_tot\", \"deaths_tot\", \"TOTAL_VACCINATIONS\", \"TOTAL_VACCINATIONS_PER100\"])\n"
      ],
      "metadata": {
        "id": "YRqQwO-vCvFb"
      },
      "execution_count": null,
      "outputs": []
    }
  ],
  "metadata": {
    "colab": {
      "provenance": [],
      "authorship_tag": "ABX9TyN+hNos0TOQpvvk21MfljDp",
      "include_colab_link": true
    },
    "kernelspec": {
      "display_name": "Python 3",
      "name": "python3"
    },
    "language_info": {
      "name": "python"
    }
  },
  "nbformat": 4,
  "nbformat_minor": 0
}