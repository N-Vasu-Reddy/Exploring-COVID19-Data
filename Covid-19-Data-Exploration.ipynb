{
  "cells": [
    {
      "cell_type": "markdown",
      "metadata": {
        "id": "view-in-github",
        "colab_type": "text"
      },
      "source": [
        "<a href=\"https://colab.research.google.com/github/N-Vasu-Reddy/Exploring-COVID19-Data/blob/main/Covid-19-Data-Exploration.ipynb\" target=\"_parent\"><img src=\"https://colab.research.google.com/assets/colab-badge.svg\" alt=\"Open In Colab\"/></a>"
      ]
    },
    {
      "cell_type": "markdown",
      "metadata": {
        "id": "Y6xgT0ZAtmbg"
      },
      "source": [
        "## **What is COVID-19?**\n",
        "\n",
        "COVID-19 is a respiratory illness caused by a new virus. Symptoms include fever, coughing, sore throat and shortness of breath. The virus can spread from person to person, but good hygiene can prevent infection.\n",
        "\n",
        "**Related Information about COVID-19**\n",
        "COVID-19 may not be fatal but it spreads faster than other diseases, like common cold. Every virus has Basic Reproduction number (R0) which implies how many people will get the disease from the infected person. As per inital reseach work R0 of COVID-19 is 2.7.\n",
        "\n",
        "Currently the goal of all scientists around the world is to \"Flatten the Curve\". COVID-19 currently has exponential growth rate around the world. Flattening the Curve typically implies even if the number of Confirmed Cases are increasing but the distribution of those cases should be over longer timestamp. To put it in simple words if say suppose COVID-19 is going infect 100K people then those many people should be infected in 1 year but not in a month.\n",
        "\n",
        "The sole reason to Flatten the Curve is to reudce the load on the Medical Systems so as to increase the focus of Research to find the Medicine for the disease.\n",
        "\n",
        "Every Pandemic has four stages:\n",
        "\n",
        "**Stage 1**: Confirmed Cases come from other countries\n",
        "\n",
        "**Stage 2**: Local Transmission Begins\n",
        "\n",
        "**Stage 3**: Communities impacted with local transimission\n",
        "\n",
        "**Stage 4**: Significant Transmission with no end in sight\n",
        "\n",
        "Italy, USA, UK and France are the two countries which are currently in Stage 4 While India is in on the edge of Stage 3.\n",
        "\n",
        "Other ways to tackle the disease like Corona other than Travel Ban, Cross-Border shutdown, Ban on immigrants are Testing, Contact Tracing and Quarantine."
      ]
    },
    {
      "cell_type": "markdown",
      "metadata": {
        "id": "6CJCtTutuv9r"
      },
      "source": [
        "**Objective of the Notebook**\n",
        "\n",
        "Objective of this notebook is to study COVID-19 outbreak with the help of some basic visualizations techniques. Comparison of China where the COVID-19 originally originated from with the Rest of the World. Perform predictions in order to study the impact and spread of the COVID-19 in comming days."
      ]
    },
    {
      "cell_type": "markdown",
      "metadata": {
        "id": "N2gsUqvGviFb"
      },
      "source": [
        "#Let's get started"
      ]
    },
    {
      "cell_type": "markdown",
      "metadata": {
        "id": "RmPSwVUokSCq"
      },
      "source": [
        "#1. Importing Libraries and Setting Up\n",
        "\n"
      ]
    },
    {
      "cell_type": "code",
      "execution_count": null,
      "metadata": {
        "id": "r31HmWvqj6hb"
      },
      "outputs": [],
      "source": [
        "import numpy as np\n",
        "import pandas as pd\n",
        "import matplotlib.pyplot as plt\n",
        "import seaborn as sns\n",
        "import plotly.express as px\n",
        "import plotly.graph_objects as go\n",
        "import folium\n",
        "from ipywidgets import interact # For interactive widgets\n",
        "import warnings\n",
        "warnings.filterwarnings('ignore') # Ignore warnings"
      ]
    },
    {
      "cell_type": "markdown",
      "metadata": {
        "id": "aa9zB2vDkbCB"
      },
      "source": [
        "#2. Loading and Displaying Datasets"
      ]
    },
    {
      "cell_type": "code",
      "execution_count": null,
      "metadata": {
        "id": "4wPEibE7eJ_a"
      },
      "outputs": [],
      "source": [
        "cases_df = pd.read_csv('/content/WHO-COVID-19-global-table-data.csv',encoding='latin1')\n",
        "#cases_df contains information about covid-19 cases and deaths globally.\n",
        "vacc_df = pd.read_csv('/content/vaccination-data.csv',encoding='latin1')\n",
        "#vacc_df contains information about covid-19 vaccinations globally.\n",
        "loc_df = pd.read_csv('/content/location.csv',encoding='latin1')\n",
        "#loc_df contains geospatial location information of each country."
      ]
    },
    {
      "cell_type": "code",
      "execution_count": null,
      "metadata": {
        "id": "aGHrj_klkGUg"
      },
      "outputs": [],
      "source": [
        "cases_df.head()"
      ]
    },
    {
      "cell_type": "code",
      "execution_count": null,
      "metadata": {
        "id": "ZIE82EUBvOvB"
      },
      "outputs": [],
      "source": [
        "vacc_df.head()"
      ]
    },
    {
      "cell_type": "code",
      "execution_count": null,
      "metadata": {
        "id": "gIJYjMol752M"
      },
      "outputs": [],
      "source": [
        "loc_df.head()"
      ]
    },
    {
      "cell_type": "markdown",
      "metadata": {
        "id": "0jKSVOQdVvdT"
      },
      "source": [
        "#3. Dataset Information"
      ]
    },
    {
      "cell_type": "code",
      "execution_count": null,
      "metadata": {
        "id": "iR9mJz-PkMvO"
      },
      "outputs": [],
      "source": [
        "cases_df.info()"
      ]
    },
    {
      "cell_type": "code",
      "execution_count": null,
      "metadata": {
        "id": "bimWx7UT1yUv"
      },
      "outputs": [],
      "source": [
        "vacc_df.info()"
      ]
    },
    {
      "cell_type": "markdown",
      "metadata": {
        "id": "9NXL53sLIDT8"
      },
      "source": [
        "#4. Cleaning and Preprocessing Datasets"
      ]
    },
    {
      "cell_type": "markdown",
      "metadata": {
        "id": "Bn7t2GGKWFk_"
      },
      "source": [
        "##4.1. Dropping Irrelevant Columns"
      ]
    },
    {
      "cell_type": "code",
      "execution_count": null,
      "metadata": {
        "id": "XcLkvRo6V8KY"
      },
      "outputs": [],
      "source": [
        "cases_df.drop([\"WHO Region\",\"Deaths - newly reported in last 7 days per 100000 population\"], axis=1, inplace=True)\n",
        "vacc_df.drop([\"WHO_REGION\", \"DATA_SOURCE\", \"DATE_UPDATED\", \"VACCINES_USED\", \"NUMBER_VACCINES_TYPES_USED\", \"FIRST_VACCINE_DATE\"], axis=1, inplace=True)\n",
        "vacc_df = vacc_df.dropna(subset=['TOTAL_VACCINATIONS'])"
      ]
    },
    {
      "cell_type": "markdown",
      "metadata": {
        "id": "-djYuRTQWOUx"
      },
      "source": [
        "##4.2. Renaming Columns"
      ]
    },
    {
      "cell_type": "code",
      "execution_count": null,
      "metadata": {
        "id": "k5DldRpbV88D"
      },
      "outputs": [],
      "source": [
        "#renaming columns of cases_df, vacc_df and loc_df to improve readability of the features\n",
        "cases_df.rename(columns={\n",
        "    \"Cases - cumulative total\": \"cases_tot\",\n",
        "    \"Cases - cumulative total per 100000 population\": \"cases_tot_per10000\",\n",
        "    \"Cases - newly reported in last 7 days\": \"new_cases_7d\",\n",
        "    \"Cases - newly reported in last 7 days per 100000 population\": \"new_cases_7d_per10000\",\n",
        "    \"Cases - newly reported in last 24 hours\": \"new_cases_24h\",\n",
        "    \"Deaths - cumulative total\": \"deaths_tot\",\n",
        "    \"Deaths - cumulative total per 100000 population\": \"deaths_tot_per10000\",\n",
        "    \"Deaths - newly reported in last 7 days\": \"new_deaths_7d\",\n",
        "    \"Deaths - newly reported in last 24 hours\": \"new_deaths_24h\",\n",
        "    \"Name\": \"country\"\n",
        "}, inplace=True)\n",
        "\n",
        "vacc_df.rename(columns={\"COUNTRY\": \"country\"}, inplace=True)\n",
        "loc_df.rename(columns={\"country\": \"code\", \"name\": \"country\"}, inplace=True)\n",
        "vacc_df.columns = [col.lower() for col in vacc_df.columns]"
      ]
    },
    {
      "cell_type": "code",
      "execution_count": null,
      "metadata": {
        "id": "Qxy3SgoLwtr1"
      },
      "outputs": [],
      "source": [
        "cases_df.head()"
      ]
    },
    {
      "cell_type": "code",
      "execution_count": null,
      "metadata": {
        "id": "wxfHNo8k_O4N"
      },
      "outputs": [],
      "source": [
        "vacc_df.head()"
      ]
    },
    {
      "cell_type": "markdown",
      "metadata": {
        "id": "iy0wBOjiWfnL"
      },
      "source": [
        "#5. Merging Datasets"
      ]
    },
    {
      "cell_type": "markdown",
      "metadata": {
        "id": "YSrHZRAsISDh"
      },
      "source": [
        "In this stage, I am going to create a covid-19 dataframe(covid_df) from the three available dataframes(loc_df,cases_df and vacc_df). This process requires treating of the three dataframes and merging them."
      ]
    },
    {
      "cell_type": "code",
      "execution_count": null,
      "metadata": {
        "id": "cYwWfRMAWkp5"
      },
      "outputs": [],
      "source": [
        "# Merging location, COVID-19 cases, and vaccination data into a single dataframe: covid_df\n",
        "covid_df = pd.merge_ordered(loc_df, cases_df, on=\"country\", how=\"inner\")\n",
        "covid_df = pd.merge_ordered(covid_df, vacc_df, how=\"left\")\n",
        "covid_df.rename(columns={covid_df.columns[0]: \"code\"}, inplace=True)"
      ]
    },
    {
      "cell_type": "code",
      "execution_count": null,
      "metadata": {
        "id": "3_TTt113C5sm"
      },
      "outputs": [],
      "source": [
        "covid_df.head()"
      ]
    },
    {
      "cell_type": "markdown",
      "metadata": {
        "id": "aWChtjxRWp2q"
      },
      "source": [
        "#6. Feature Engineering"
      ]
    },
    {
      "cell_type": "markdown",
      "metadata": {
        "id": "G3hS1YKIWrsT"
      },
      "source": [
        "##6.1. Creating New Features"
      ]
    },
    {
      "cell_type": "code",
      "execution_count": null,
      "metadata": {
        "id": "aNqAHDUpWpjm"
      },
      "outputs": [],
      "source": [
        "covid_df['vaccination_gap'] = covid_df['persons_vaccinated_1plus_dose'] - covid_df['persons_last_dose']\n",
        "covid_df['alive'] = covid_df['cases_tot'] - covid_df['deaths_tot']"
      ]
    },
    {
      "cell_type": "code",
      "execution_count": null,
      "metadata": {
        "id": "4cL9SMk5Bd9f"
      },
      "outputs": [],
      "source": [
        "covid_df.head()"
      ]
    },
    {
      "cell_type": "markdown",
      "metadata": {
        "id": "5CWEDOq_W0I3"
      },
      "source": [
        "##6.2. Replacing Zeroes with NaN"
      ]
    },
    {
      "cell_type": "code",
      "execution_count": null,
      "metadata": {
        "id": "4Si7LXfSWxbD"
      },
      "outputs": [],
      "source": [
        "# Replacing 0 values with NaN for specific columns\n",
        "cols_to_replace = [\n",
        "    'cases_tot', 'cases_tot_per10000', 'new_cases_7d', 'new_cases_7d_per10000',\n",
        "    'new_cases_24h', 'deaths_tot', 'deaths_tot_per10000', 'new_deaths_7d',\n",
        "    'new_deaths_24h', 'total_vaccinations', 'persons_vaccinated_1plus_dose',\n",
        "    'persons_booster_add_dose'\n",
        "]\n",
        "for col in cols_to_replace:\n",
        "    if col in covid_df.columns:\n",
        "        covid_df[col] = covid_df[col].replace(0, np.nan)"
      ]
    },
    {
      "cell_type": "code",
      "execution_count": null,
      "metadata": {
        "id": "FJeA0AtRv1_A"
      },
      "outputs": [],
      "source": [
        "covid_df.head()"
      ]
    },
    {
      "cell_type": "code",
      "execution_count": null,
      "metadata": {
        "id": "3dk5A1ldC7cV"
      },
      "outputs": [],
      "source": [
        "covid_df.shape"
      ]
    },
    {
      "cell_type": "code",
      "execution_count": null,
      "metadata": {
        "id": "bdHfmSKhC9xx"
      },
      "outputs": [],
      "source": [
        "covid_df.info()"
      ]
    },
    {
      "cell_type": "code",
      "execution_count": null,
      "metadata": {
        "id": "vQFE5UxoFX2-"
      },
      "outputs": [],
      "source": [
        "#covid_df.to_csv(\"covid_df.csv\",index=False)"
      ]
    },
    {
      "cell_type": "markdown",
      "metadata": {
        "id": "b53U0AKniVoW"
      },
      "source": [
        "#7. Profile Reporting"
      ]
    },
    {
      "cell_type": "code",
      "execution_count": null,
      "metadata": {
        "id": "JnWDuM2MKnP6"
      },
      "outputs": [],
      "source": [
        "!pip install ydata-profiling --q"
      ]
    },
    {
      "cell_type": "code",
      "execution_count": null,
      "metadata": {
        "id": "v0KWJj_KGHhZ"
      },
      "outputs": [],
      "source": [
        "import ydata_profiling"
      ]
    },
    {
      "cell_type": "code",
      "execution_count": null,
      "metadata": {
        "colab": {
          "background_save": true
        },
        "id": "bwiBz8wJGRj-"
      },
      "outputs": [],
      "source": [
        " profile = ydata_profiling.ProfileReport(covid_df)\n",
        " profile.to_notebook_iframe()"
      ]
    },
    {
      "cell_type": "markdown",
      "metadata": {
        "id": "WWe2k0DfW6Y8"
      },
      "source": [
        "#8. Data Analysis and Visualization"
      ]
    },
    {
      "cell_type": "markdown",
      "metadata": {
        "id": "p-T8Ua1mStgm"
      },
      "source": [
        "##8.1. Pie Chart: COVID-19 Cases Distribution"
      ]
    },
    {
      "cell_type": "code",
      "execution_count": null,
      "metadata": {
        "id": "Ea4D6qzTMFQB"
      },
      "outputs": [],
      "source": [
        "fig = go.Figure(data=[go.Pie(\n",
        "    labels=['Cummulative sum of cases','Cummulative sum of vaccinations','Cummulative sum of deaths'],\n",
        "    values=[covid_df['cases_tot'].sum(),covid_df['total_vaccinations'].sum(),covid_df['deaths_tot'].sum()],\n",
        "    hole=0.4,\n",
        "    marker=dict(colors=['#ffc107', '#28a745','#dc3545'])\n",
        ")])\n",
        "fig.update_layout(\n",
        "    title_text='COVID-19 Cases Distribution',\n",
        "    title_x=0.5,\n",
        "    annotations=[dict(text='Cases', x=0.5, y=0.5, font_size=20, showarrow=False)]\n",
        ")\n",
        "fig.show()"
      ]
    },
    {
      "cell_type": "markdown",
      "metadata": {
        "id": "KMdZTOCLTalp"
      },
      "source": [
        "##8.2. Correlation Matrix"
      ]
    },
    {
      "cell_type": "code",
      "execution_count": null,
      "metadata": {
        "id": "lxav5e8pTfCj"
      },
      "outputs": [],
      "source": [
        "numeric_cols = covid_df.select_dtypes(include=np.number).drop(columns=['latitude', 'longitude'], errors='ignore')\n",
        "corr_matrix = numeric_cols.corr()\n",
        "plt.figure(figsize=(15,10))\n",
        "sns.heatmap(corr_matrix, annot=True, cmap='coolwarm', fmt=\".2f\")\n",
        "plt.title('Correlation Matrix of COVID-19 Data')\n",
        "plt.show()"
      ]
    },
    {
      "cell_type": "markdown",
      "metadata": {
        "id": "vc5LbXG6_ip8"
      },
      "source": [
        "##8.3. Country-Specific Analysis"
      ]
    },
    {
      "cell_type": "code",
      "execution_count": null,
      "metadata": {
        "id": "T9qEPf-QkXXP"
      },
      "outputs": [],
      "source": [
        "fig,axes=plt.subplots(1,3,figsize=(20,10))\n",
        "top_10_countries = covid_df.nlargest(10, 'cases_tot')\n",
        "colors = sns.color_palette(\"Blues_r\", n_colors=20)\n",
        "sns.barplot(x='country', y='cases_tot', data=top_10_countries, palette=colors,ax=axes[0])\n",
        "axes[0].set_title('Top 10 Countries with Highest Total Cases')\n",
        "axes[0].set_xlabel('Country')\n",
        "axes[0].set_ylabel('Total Cases')\n",
        "axes[0].tick_params(axis='x',rotation=90)\n",
        "\n",
        "top_10_countries = covid_df.nlargest(10, 'deaths_tot').sort_values(by='deaths_tot', ascending=False)\n",
        "colors = sns.color_palette(\"Reds_r\", n_colors=30)\n",
        "sns.barplot(x='country', y='deaths_tot', data=top_10_countries,palette=colors,ax=axes[1])\n",
        "axes[1].set_title('Top 10 Countries with Highest Death Cases')\n",
        "axes[1].set_xlabel('Country')\n",
        "axes[1].set_ylabel('Total Death Cases')\n",
        "axes[1].tick_params(axis='x',rotation=90)\n",
        "\n",
        "top_10_countries = covid_df.nlargest(10, 'total_vaccinations')\n",
        "colors = sns.color_palette(\"Greens_r\", n_colors=20)\n",
        "sns.barplot(x='country', y='total_vaccinations', data=top_10_countries,palette=colors,ax = axes[2])\n",
        "axes[2].set_title('Top 10 Countries with Highest Vaccinated Persons')\n",
        "axes[2].set_xlabel('Country')\n",
        "axes[2].set_ylabel('Total Vaccinations')\n",
        "axes[2].tick_params(rotation=90)\n",
        "plt.show()"
      ]
    },
    {
      "cell_type": "markdown",
      "metadata": {
        "id": "neKb6y0FZf14"
      },
      "source": [
        "##8.4. Statistical Analysis"
      ]
    },
    {
      "cell_type": "markdown",
      "metadata": {
        "id": "2jWFKP33aDRw"
      },
      "source": [
        "###8.4.1.  Boxplot of Total Vaccinations"
      ]
    },
    {
      "cell_type": "code",
      "execution_count": null,
      "metadata": {
        "id": "Wd2U13o0E9jS"
      },
      "outputs": [],
      "source": [
        "covid_df[['total_vaccinations','total_vaccinations_per100']].describe()"
      ]
    },
    {
      "cell_type": "code",
      "execution_count": null,
      "metadata": {
        "colab": {
          "background_save": true
        },
        "id": "-MMFSWd9YN-O"
      },
      "outputs": [],
      "source": [
        "sns.boxplot(x='total_vaccinations',data=covid_df.sort_values(by='total_vaccinations',ascending=False).iloc[2:,:])\n",
        "plt.title('Boxplot of Total Vaccinations')\n",
        "plt.xlabel('Total Vaccinations')\n",
        "plt.show()"
      ]
    },
    {
      "cell_type": "markdown",
      "metadata": {
        "id": "e7jbo58kaHTz"
      },
      "source": [
        "###8.4.2. Boxplot of Total Vaccinations Per 100"
      ]
    },
    {
      "cell_type": "code",
      "execution_count": null,
      "metadata": {
        "colab": {
          "background_save": true
        },
        "id": "ky-T9jdUckSf"
      },
      "outputs": [],
      "source": [
        "covid_df['total_vaccinations_per100'].describe()"
      ]
    },
    {
      "cell_type": "code",
      "execution_count": null,
      "metadata": {
        "colab": {
          "background_save": true
        },
        "id": "MEpVRnkgcqGY"
      },
      "outputs": [],
      "source": [
        "sns.boxplot(x='total_vaccinations_per100',data=covid_df.sort_values(by='total_vaccinations_per100',ascending=False).iloc[2:,:])\n",
        "plt.title('Boxplot of Total Vaccinations Per 100')\n",
        "plt.xlabel('Total Vaccinations Per 100')\n",
        "plt.show()"
      ]
    },
    {
      "cell_type": "markdown",
      "metadata": {
        "id": "glh7vvCLaQ9-"
      },
      "source": [
        "###8.4.3 Histogram of Total Vaccinations Per 100"
      ]
    },
    {
      "cell_type": "code",
      "execution_count": null,
      "metadata": {
        "colab": {
          "background_save": true
        },
        "id": "IU1OuAueXMVp"
      },
      "outputs": [],
      "source": [
        "sns.histplot(x='total_vaccinations_per100',kde=True,bins=30,data=covid_df)\n",
        "plt.title('Histogram of Total Vaccinations Per 100')\n",
        "plt.xlabel('Total Vaccinations Per 100')\n",
        "plt.ylabel('Frequency')\n",
        "plt.show()"
      ]
    },
    {
      "cell_type": "markdown",
      "metadata": {
        "id": "p1BK-uxJadql"
      },
      "source": [
        "###8.4.4. Outlier Detection for Total Vaccinations"
      ]
    },
    {
      "cell_type": "code",
      "execution_count": null,
      "metadata": {
        "colab": {
          "background_save": true
        },
        "id": "TbOJIHzQVXEk"
      },
      "outputs": [],
      "source": [
        "from scipy.stats import iqr\n",
        "Q1 = np.quantile(covid_df['total_vaccinations'],0.25)\n",
        "Q3 = np.quantile(covid_df['total_vaccinations'],0.75)\n",
        "iqr = iqr(covid_df['total_vaccinations'])\n",
        "lower_bound = Q1 - 1.5*iqr\n",
        "upper_bound = Q3 + 1.5*iqr\n",
        "outliers = covid_df[(covid_df['total_vaccinations']<lower_bound) | (covid_df['total_vaccinations']>upper_bound)]\n",
        "print(len(outliers))"
      ]
    },
    {
      "cell_type": "markdown",
      "metadata": {
        "id": "yakfhYXBJKs1"
      },
      "source": [
        "### Observations:\n",
        "\n",
        "\n",
        "1.  The highest frequency occurs around 100 vaccinations per 100 people. This indicates that a significant number of countries (or regions) have achieved approximately this level of vaccination.\n",
        "2.   The distribution appears to be right-skewed, with a long tail extending towards higher vaccination rates. This suggests that while many countries have moderate vaccination levels, a few countries have exceptionally high rates.\n",
        "3. The density curve illustrates a bimodal distribution, indicating two distinct clusters of countries: one centered around 100 vaccinations per 100 people, and the other around 200 vaccinations per 100 people."
      ]
    },
    {
      "cell_type": "markdown",
      "metadata": {
        "id": "rN8wZQa2aXYq"
      },
      "source": [
        "##8.5 Bivariate analysis"
      ]
    },
    {
      "cell_type": "markdown",
      "metadata": {
        "id": "QMV99TXnAw8V"
      },
      "source": [
        "### 8.5.1 Total Vaccinations vs Total Vaccinations Per 100"
      ]
    },
    {
      "cell_type": "code",
      "execution_count": null,
      "metadata": {
        "colab": {
          "background_save": true
        },
        "id": "ypDC4FHPHzwd"
      },
      "outputs": [],
      "source": [
        "sns.scatterplot(x='total_vaccinations',y='total_vaccinations_per100',data=covid_df)\n",
        "plt.title('Total Vaccinations vs Total Vaccinations Per 100')\n",
        "plt.xlabel('Total Vaccinations')\n",
        "plt.ylabel('Total Vaccinations Per 100')\n",
        "plt.show()"
      ]
    },
    {
      "cell_type": "code",
      "execution_count": null,
      "metadata": {
        "colab": {
          "background_save": true
        },
        "id": "eObX_lBnSMUQ"
      },
      "outputs": [],
      "source": [
        "correlation = covid_df[['total_vaccinations', 'total_vaccinations_per100']].corr()\n",
        "print(correlation)"
      ]
    },
    {
      "cell_type": "markdown",
      "metadata": {
        "id": "rgdm-mR7A6WE"
      },
      "source": [
        "###8.5.2 Full Vaccination vs. Booster Uptake"
      ]
    },
    {
      "cell_type": "code",
      "execution_count": null,
      "metadata": {
        "colab": {
          "background_save": true
        },
        "id": "BVbxWCGLStI7"
      },
      "outputs": [],
      "source": [
        "plt.figure(figsize=(8, 6))\n",
        "sns.scatterplot(data=covid_df, x='persons_last_dose_per100', y='persons_booster_add_dose_per100')\n",
        "plt.title('Full Vaccination vs. Booster Uptake')\n",
        "plt.xlabel('Full Vaccination Rate (per 100)')\n",
        "plt.ylabel('Booster Uptake Rate (per 100)')\n",
        "plt.show()"
      ]
    },
    {
      "cell_type": "code",
      "execution_count": null,
      "metadata": {
        "colab": {
          "background_save": true
        },
        "id": "hgPyP3GxUup4"
      },
      "outputs": [],
      "source": [
        "covid_df['persons_vaccinated_1plus_dose'].corr(covid_df['persons_last_dose'])"
      ]
    },
    {
      "cell_type": "markdown",
      "metadata": {
        "id": "oabA5m26VvUp"
      },
      "source": [
        "There is a high correlation between the last vaccine uptake rate and booster dose uptake rate.This provides the conclusion that regions where people didn't take the last dose vaccinations also didn't take booster dose vaccination. So awareness about the \"covid pandemic and vaccination intake\" has to be taught."
      ]
    },
    {
      "cell_type": "markdown",
      "metadata": {
        "id": "d8olWth2CwTt"
      },
      "source": [
        "##8.6 Comparing with the country China with rest of the World"
      ]
    },
    {
      "cell_type": "markdown",
      "metadata": {
        "id": "EG22QlBbb4lP"
      },
      "source": [
        "### 8.6.1 Filter Data for China and the Rest of the World"
      ]
    },
    {
      "cell_type": "code",
      "execution_count": null,
      "metadata": {
        "colab": {
          "background_save": true
        },
        "id": "wra5RPdjC5Og"
      },
      "outputs": [],
      "source": [
        "china_df = covid_df[covid_df['country']=='China']\n",
        "world_df = covid_df[covid_df['country']!='China']\n",
        "china_stats = china_df[['cases_tot', 'deaths_tot', 'total_vaccinations']].iloc[0].values\n",
        "world_stats = world_df[['cases_tot', 'deaths_tot', 'total_vaccinations']].sum().values\n",
        "categories = ['Total Cases', 'Total Deaths', 'Total Vaccinations']"
      ]
    },
    {
      "cell_type": "markdown",
      "metadata": {
        "id": "M3v6WHtOb-rF"
      },
      "source": [
        "### 8.6.2 Pie Charts for Proportional Comparison"
      ]
    },
    {
      "cell_type": "code",
      "execution_count": null,
      "metadata": {
        "colab": {
          "background_save": true
        },
        "id": "ScUHc56XOly2"
      },
      "outputs": [],
      "source": [
        "#Creating a pie chart comparing China with the rest of the World\n",
        "total_cases = [china_stats[0], world_stats[0]]\n",
        "total_deaths = [china_stats[1], world_stats[1]]\n",
        "total_vaccinations = [china_stats[2], world_stats[2]]\n",
        "fig, axs = plt.subplots(1, 3, figsize=(15, 5))\n",
        "\n",
        "for ax, data, title in zip(\n",
        "    axs,\n",
        "    [total_cases, total_deaths, total_vaccinations],\n",
        "    ['Total Cases', 'Total Deaths', 'Total Vaccinations']\n",
        "):\n",
        "    ax.pie(data, labels=['China', 'Rest of the World'], autopct='%1.1f%%', colors=['blue', 'orange'])\n",
        "    ax.set_title(title)\n",
        "\n",
        "plt.suptitle('Proportional Comparison of China vs. Rest of the World')\n",
        "plt.tight_layout()\n",
        "plt.show()"
      ]
    },
    {
      "cell_type": "markdown",
      "metadata": {
        "id": "35UdvHipcMlW"
      },
      "source": [
        "### 8.6.3. Bar Chart for Comparison"
      ]
    },
    {
      "cell_type": "code",
      "execution_count": null,
      "metadata": {
        "colab": {
          "background_save": true
        },
        "id": "Mw9dGAFwJbE1"
      },
      "outputs": [],
      "source": [
        "#Creating a bar chart comparing China with the rest of the World\n",
        "fig = go.Figure()\n",
        "fig.add_trace(go.Bar(\n",
        "    x=categories,\n",
        "    y=china_stats,\n",
        "    name='China',\n",
        "    marker_color='blue'\n",
        "))\n",
        "fig.add_trace(go.Bar(\n",
        "    x=categories,\n",
        "    y=world_stats,\n",
        "    name='Rest of the World',\n",
        "    marker_color='orange'\n",
        "))\n",
        "fig.update_layout(\n",
        "    title='Comparison of China vs. Rest of the World',\n",
        "    xaxis_title='Category',\n",
        "    yaxis_title='Counts (log scale)',\n",
        "    yaxis_type='log',\n",
        "    barmode='group'\n",
        ")\n",
        "fig.show()"
      ]
    },
    {
      "cell_type": "markdown",
      "metadata": {
        "id": "TgY49pzSBZo8"
      },
      "source": [
        "###8.7. Choropleth Analysis"
      ]
    },
    {
      "cell_type": "markdown",
      "metadata": {
        "id": "EO9qlNEAch82"
      },
      "source": [
        "### 8.7.1. Choropleth Map for Vaccination Rate"
      ]
    },
    {
      "cell_type": "code",
      "execution_count": null,
      "metadata": {
        "colab": {
          "background_save": true
        },
        "id": "ipG-GMFFDYSs"
      },
      "outputs": [],
      "source": [
        "fig = px.choropleth(\n",
        "    covid_df,\n",
        "    locations='iso3',\n",
        "    color='total_vaccinations_per100',\n",
        "    hover_name='country',\n",
        "    title='Vaccination Rate per 100 People by Country',\n",
        "    color_continuous_scale='matter'\n",
        ")\n",
        "fig.show()\n"
      ]
    },
    {
      "cell_type": "markdown",
      "metadata": {
        "id": "TVH8gb9zckrr"
      },
      "source": [
        "### 8.7.2. Dynamic COVID-19 Data Visualization Map"
      ]
    },
    {
      "cell_type": "code",
      "execution_count": null,
      "metadata": {
        "id": "YRqQwO-vCvFb"
      },
      "outputs": [],
      "source": [
        "def create_map(column):\n",
        "    base_map = folium.Map(location=[0, 0], zoom_start=2,tiles=\"cartodbpositron\",control_scale=True,no_wrap=True,max_bounds=True,)\n",
        "    bounds=[]\n",
        "    max_value = covid_df[column].max()\n",
        "    min_value = covid_df[column].min()\n",
        "    for _, row in covid_df.iterrows():\n",
        "        color = \"blue\" if column == \"cases_tot\" else \"red\" if column == \"deaths_tot\" else \"green\"\n",
        "        folium.CircleMarker(\n",
        "            location=[row[\"latitude\"], row[\"longitude\"]],\n",
        "            radius = 5 + (row[column] - min_value) / (max_value - min_value) * 20 if max_value > min_value else 3,\n",
        "            color=color,\n",
        "            fill=True,\n",
        "            fill_color=color,\n",
        "            fill_opacity=0.6,\n",
        "            tooltip=f\"{column}: {row[column]}<br>Country: {row['country']}\"\n",
        "        ).add_to(base_map)\n",
        "\n",
        "    return base_map\n",
        "\n",
        "interact(create_map, column=[\"cases_tot\", \"deaths_tot\", \"total_vaccinations\", \"total_vaccinations_per100\"])\n"
      ]
    }
  ],
  "metadata": {
    "colab": {
      "provenance": [],
      "authorship_tag": "ABX9TyO2BtIJSrs8G6zoUNXvpKoG",
      "include_colab_link": true
    },
    "kernelspec": {
      "display_name": "Python 3",
      "name": "python3"
    },
    "language_info": {
      "name": "python"
    }
  },
  "nbformat": 4,
  "nbformat_minor": 0
}